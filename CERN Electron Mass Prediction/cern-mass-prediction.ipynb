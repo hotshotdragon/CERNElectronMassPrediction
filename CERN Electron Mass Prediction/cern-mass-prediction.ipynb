{
 "cells": [
  {
   "cell_type": "code",
   "execution_count": 1,
   "metadata": {
    "_cell_guid": "b1076dfc-b9ad-4769-8c92-a6c4dae69d19",
    "_uuid": "8f2839f25d086af736a60e9eeb907d3b93b6e0e5",
    "execution": {
     "iopub.execute_input": "2021-02-12T14:49:41.410963Z",
     "iopub.status.busy": "2021-02-12T14:49:41.410192Z",
     "iopub.status.idle": "2021-02-12T14:49:42.780001Z",
     "shell.execute_reply": "2021-02-12T14:49:42.779228Z"
    },
    "papermill": {
     "duration": 1.41048,
     "end_time": "2021-02-12T14:49:42.780260",
     "exception": false,
     "start_time": "2021-02-12T14:49:41.369780",
     "status": "completed"
    },
    "tags": []
   },
   "outputs": [
    {
     "name": "stdout",
     "output_type": "stream",
     "text": [
      "/kaggle/input/cern-electron-collision-data/dielectron.csv\n"
     ]
    }
   ],
   "source": [
    "# This Python 3 environment comes with many helpful analytics libraries installed\n",
    "# It is defined by the kaggle/python Docker image: https://github.com/kaggle/docker-python\n",
    "# For example, here's several helpful packages to load\n",
    "\n",
    "import numpy as np # linear algebra\n",
    "import pandas as pd # data processing, CSV file I/O (e.g. pd.read_csv)\n",
    "import matplotlib.pyplot as plt # plot the dataset\n",
    "import seaborn as sns\n",
    "from sklearn.model_selection import train_test_split\n",
    "from sklearn.model_selection import cross_val_score\n",
    "from sklearn.model_selection import GridSearchCV\n",
    "from sklearn.preprocessing import StandardScaler \n",
    "from sklearn.metrics import mean_squared_error\n",
    "from sklearn.linear_model import LinearRegression\n",
    "from sklearn.tree import DecisionTreeRegressor\n",
    "from sklearn.ensemble import RandomForestRegressor\n",
    "\n",
    "\n",
    "\n",
    "\n",
    "# Input data files are available in the read-only \"../input/\" directory\n",
    "# For example, running this (by clicking run or pressing Shift+Enter) will list all files under the input directory\n",
    "\n",
    "import os\n",
    "for dirname, _, filenames in os.walk('/kaggle/input'):\n",
    "    for filename in filenames:\n",
    "        print(os.path.join(dirname, filename))\n",
    "\n",
    "# You can write up to 20GB to the current directory (/kaggle/working/) that gets preserved as output when you create a version using \"Save & Run All\" \n",
    "# You can also write temporary files to /kaggle/temp/, but they won't be saved outside of the current session"
   ]
  },
  {
   "cell_type": "markdown",
   "metadata": {
    "papermill": {
     "duration": 0.028568,
     "end_time": "2021-02-12T14:49:42.839751",
     "exception": false,
     "start_time": "2021-02-12T14:49:42.811183",
     "status": "completed"
    },
    "tags": []
   },
   "source": [
    "### Loading the Dataset"
   ]
  },
  {
   "cell_type": "code",
   "execution_count": 2,
   "metadata": {
    "execution": {
     "iopub.execute_input": "2021-02-12T14:49:42.912116Z",
     "iopub.status.busy": "2021-02-12T14:49:42.911446Z",
     "iopub.status.idle": "2021-02-12T14:49:43.533891Z",
     "shell.execute_reply": "2021-02-12T14:49:43.532715Z"
    },
    "papermill": {
     "duration": 0.660582,
     "end_time": "2021-02-12T14:49:43.534071",
     "exception": false,
     "start_time": "2021-02-12T14:49:42.873489",
     "status": "completed"
    },
    "tags": []
   },
   "outputs": [
    {
     "data": {
      "text/html": [
       "<div>\n",
       "<style scoped>\n",
       "    .dataframe tbody tr th:only-of-type {\n",
       "        vertical-align: middle;\n",
       "    }\n",
       "\n",
       "    .dataframe tbody tr th {\n",
       "        vertical-align: top;\n",
       "    }\n",
       "\n",
       "    .dataframe thead th {\n",
       "        text-align: right;\n",
       "    }\n",
       "</style>\n",
       "<table border=\"1\" class=\"dataframe\">\n",
       "  <thead>\n",
       "    <tr style=\"text-align: right;\">\n",
       "      <th></th>\n",
       "      <th>Run</th>\n",
       "      <th>Event</th>\n",
       "      <th>E1</th>\n",
       "      <th>px1</th>\n",
       "      <th>py1</th>\n",
       "      <th>pz1</th>\n",
       "      <th>pt1</th>\n",
       "      <th>eta1</th>\n",
       "      <th>phi1</th>\n",
       "      <th>Q1</th>\n",
       "      <th>E2</th>\n",
       "      <th>px2</th>\n",
       "      <th>py2</th>\n",
       "      <th>pz2</th>\n",
       "      <th>pt2</th>\n",
       "      <th>eta2</th>\n",
       "      <th>phi2</th>\n",
       "      <th>Q2</th>\n",
       "      <th>M</th>\n",
       "    </tr>\n",
       "  </thead>\n",
       "  <tbody>\n",
       "    <tr>\n",
       "      <th>0</th>\n",
       "      <td>147115</td>\n",
       "      <td>366639895</td>\n",
       "      <td>58.71410</td>\n",
       "      <td>-7.31132</td>\n",
       "      <td>10.531000</td>\n",
       "      <td>-57.29740</td>\n",
       "      <td>12.82020</td>\n",
       "      <td>-2.20267</td>\n",
       "      <td>2.17766</td>\n",
       "      <td>1</td>\n",
       "      <td>11.2836</td>\n",
       "      <td>-1.032340</td>\n",
       "      <td>-1.88066</td>\n",
       "      <td>-11.0778</td>\n",
       "      <td>2.14537</td>\n",
       "      <td>-2.344030</td>\n",
       "      <td>-2.072810</td>\n",
       "      <td>-1</td>\n",
       "      <td>8.94841</td>\n",
       "    </tr>\n",
       "    <tr>\n",
       "      <th>1</th>\n",
       "      <td>147115</td>\n",
       "      <td>366704169</td>\n",
       "      <td>6.61188</td>\n",
       "      <td>-4.15213</td>\n",
       "      <td>-0.579855</td>\n",
       "      <td>-5.11278</td>\n",
       "      <td>4.19242</td>\n",
       "      <td>-1.02842</td>\n",
       "      <td>-3.00284</td>\n",
       "      <td>-1</td>\n",
       "      <td>17.1492</td>\n",
       "      <td>-11.713500</td>\n",
       "      <td>5.04474</td>\n",
       "      <td>11.4647</td>\n",
       "      <td>12.75360</td>\n",
       "      <td>0.808077</td>\n",
       "      <td>2.734920</td>\n",
       "      <td>1</td>\n",
       "      <td>15.89300</td>\n",
       "    </tr>\n",
       "    <tr>\n",
       "      <th>2</th>\n",
       "      <td>147115</td>\n",
       "      <td>367112316</td>\n",
       "      <td>25.54190</td>\n",
       "      <td>-11.48090</td>\n",
       "      <td>2.041680</td>\n",
       "      <td>22.72460</td>\n",
       "      <td>11.66100</td>\n",
       "      <td>1.42048</td>\n",
       "      <td>2.96560</td>\n",
       "      <td>1</td>\n",
       "      <td>15.8203</td>\n",
       "      <td>-1.472800</td>\n",
       "      <td>2.25895</td>\n",
       "      <td>-15.5888</td>\n",
       "      <td>2.69667</td>\n",
       "      <td>-2.455080</td>\n",
       "      <td>2.148570</td>\n",
       "      <td>1</td>\n",
       "      <td>38.38770</td>\n",
       "    </tr>\n",
       "    <tr>\n",
       "      <th>3</th>\n",
       "      <td>147115</td>\n",
       "      <td>366952149</td>\n",
       "      <td>65.39590</td>\n",
       "      <td>7.51214</td>\n",
       "      <td>11.887100</td>\n",
       "      <td>63.86620</td>\n",
       "      <td>14.06190</td>\n",
       "      <td>2.21838</td>\n",
       "      <td>1.00721</td>\n",
       "      <td>1</td>\n",
       "      <td>25.1273</td>\n",
       "      <td>4.087860</td>\n",
       "      <td>2.59641</td>\n",
       "      <td>24.6563</td>\n",
       "      <td>4.84272</td>\n",
       "      <td>2.330210</td>\n",
       "      <td>0.565865</td>\n",
       "      <td>-1</td>\n",
       "      <td>3.72862</td>\n",
       "    </tr>\n",
       "    <tr>\n",
       "      <th>4</th>\n",
       "      <td>147115</td>\n",
       "      <td>366523212</td>\n",
       "      <td>61.45040</td>\n",
       "      <td>2.95284</td>\n",
       "      <td>-14.622700</td>\n",
       "      <td>-59.61210</td>\n",
       "      <td>14.91790</td>\n",
       "      <td>-2.09375</td>\n",
       "      <td>-1.37154</td>\n",
       "      <td>-1</td>\n",
       "      <td>13.8871</td>\n",
       "      <td>-0.277757</td>\n",
       "      <td>-2.42560</td>\n",
       "      <td>-13.6708</td>\n",
       "      <td>2.44145</td>\n",
       "      <td>-2.423700</td>\n",
       "      <td>-1.684810</td>\n",
       "      <td>-1</td>\n",
       "      <td>2.74718</td>\n",
       "    </tr>\n",
       "  </tbody>\n",
       "</table>\n",
       "</div>"
      ],
      "text/plain": [
       "      Run      Event        E1      px1         py1       pz1       pt1  \\\n",
       "0  147115  366639895  58.71410  -7.31132  10.531000 -57.29740  12.82020   \n",
       "1  147115  366704169   6.61188  -4.15213  -0.579855  -5.11278   4.19242   \n",
       "2  147115  367112316  25.54190 -11.48090   2.041680  22.72460  11.66100   \n",
       "3  147115  366952149  65.39590   7.51214  11.887100  63.86620  14.06190   \n",
       "4  147115  366523212  61.45040   2.95284 -14.622700 -59.61210  14.91790   \n",
       "\n",
       "      eta1     phi1  Q1       E2        px2      py2      pz2       pt2  \\\n",
       "0 -2.20267  2.17766   1  11.2836  -1.032340 -1.88066 -11.0778   2.14537   \n",
       "1 -1.02842 -3.00284  -1  17.1492 -11.713500  5.04474  11.4647  12.75360   \n",
       "2  1.42048  2.96560   1  15.8203  -1.472800  2.25895 -15.5888   2.69667   \n",
       "3  2.21838  1.00721   1  25.1273   4.087860  2.59641  24.6563   4.84272   \n",
       "4 -2.09375 -1.37154  -1  13.8871  -0.277757 -2.42560 -13.6708   2.44145   \n",
       "\n",
       "       eta2      phi2  Q2         M  \n",
       "0 -2.344030 -2.072810  -1   8.94841  \n",
       "1  0.808077  2.734920   1  15.89300  \n",
       "2 -2.455080  2.148570   1  38.38770  \n",
       "3  2.330210  0.565865  -1   3.72862  \n",
       "4 -2.423700 -1.684810  -1   2.74718  "
      ]
     },
     "execution_count": 2,
     "metadata": {},
     "output_type": "execute_result"
    }
   ],
   "source": [
    "df = pd.read_csv('/kaggle/input/cern-electron-collision-data/dielectron.csv')\n",
    "df.head()"
   ]
  },
  {
   "cell_type": "code",
   "execution_count": 3,
   "metadata": {
    "execution": {
     "iopub.execute_input": "2021-02-12T14:49:43.599790Z",
     "iopub.status.busy": "2021-02-12T14:49:43.598596Z",
     "iopub.status.idle": "2021-02-12T14:49:43.630165Z",
     "shell.execute_reply": "2021-02-12T14:49:43.631417Z"
    },
    "papermill": {
     "duration": 0.06828,
     "end_time": "2021-02-12T14:49:43.631705",
     "exception": false,
     "start_time": "2021-02-12T14:49:43.563425",
     "status": "completed"
    },
    "tags": []
   },
   "outputs": [
    {
     "name": "stdout",
     "output_type": "stream",
     "text": [
      "<class 'pandas.core.frame.DataFrame'>\n",
      "RangeIndex: 100000 entries, 0 to 99999\n",
      "Data columns (total 19 columns):\n",
      " #   Column  Non-Null Count   Dtype  \n",
      "---  ------  --------------   -----  \n",
      " 0   Run     100000 non-null  int64  \n",
      " 1   Event   100000 non-null  int64  \n",
      " 2   E1      100000 non-null  float64\n",
      " 3   px1     100000 non-null  float64\n",
      " 4   py1     100000 non-null  float64\n",
      " 5   pz1     100000 non-null  float64\n",
      " 6   pt1     100000 non-null  float64\n",
      " 7   eta1    100000 non-null  float64\n",
      " 8   phi1    100000 non-null  float64\n",
      " 9   Q1      100000 non-null  int64  \n",
      " 10  E2      100000 non-null  float64\n",
      " 11  px2     100000 non-null  float64\n",
      " 12  py2     100000 non-null  float64\n",
      " 13  pz2     100000 non-null  float64\n",
      " 14  pt2     100000 non-null  float64\n",
      " 15  eta2    100000 non-null  float64\n",
      " 16  phi2    100000 non-null  float64\n",
      " 17  Q2      100000 non-null  int64  \n",
      " 18  M       99915 non-null   float64\n",
      "dtypes: float64(15), int64(4)\n",
      "memory usage: 14.5 MB\n"
     ]
    }
   ],
   "source": [
    "df.info()"
   ]
  },
  {
   "cell_type": "markdown",
   "metadata": {
    "papermill": {
     "duration": 0.031931,
     "end_time": "2021-02-12T14:49:43.694598",
     "exception": false,
     "start_time": "2021-02-12T14:49:43.662667",
     "status": "completed"
    },
    "tags": []
   },
   "source": [
    "Here we can see that 85 values from Target column is missing"
   ]
  },
  {
   "cell_type": "code",
   "execution_count": 4,
   "metadata": {
    "execution": {
     "iopub.execute_input": "2021-02-12T14:49:43.775384Z",
     "iopub.status.busy": "2021-02-12T14:49:43.774700Z",
     "iopub.status.idle": "2021-02-12T14:49:43.903186Z",
     "shell.execute_reply": "2021-02-12T14:49:43.902503Z"
    },
    "papermill": {
     "duration": 0.177111,
     "end_time": "2021-02-12T14:49:43.903342",
     "exception": false,
     "start_time": "2021-02-12T14:49:43.726231",
     "status": "completed"
    },
    "tags": []
   },
   "outputs": [
    {
     "data": {
      "text/html": [
       "<div>\n",
       "<style scoped>\n",
       "    .dataframe tbody tr th:only-of-type {\n",
       "        vertical-align: middle;\n",
       "    }\n",
       "\n",
       "    .dataframe tbody tr th {\n",
       "        vertical-align: top;\n",
       "    }\n",
       "\n",
       "    .dataframe thead th {\n",
       "        text-align: right;\n",
       "    }\n",
       "</style>\n",
       "<table border=\"1\" class=\"dataframe\">\n",
       "  <thead>\n",
       "    <tr style=\"text-align: right;\">\n",
       "      <th></th>\n",
       "      <th>count</th>\n",
       "      <th>mean</th>\n",
       "      <th>std</th>\n",
       "      <th>min</th>\n",
       "      <th>25%</th>\n",
       "      <th>50%</th>\n",
       "      <th>75%</th>\n",
       "      <th>max</th>\n",
       "    </tr>\n",
       "  </thead>\n",
       "  <tbody>\n",
       "    <tr>\n",
       "      <th>Run</th>\n",
       "      <td>100000.0</td>\n",
       "      <td>1.479353e+05</td>\n",
       "      <td>9.203061e+02</td>\n",
       "      <td>146511.000000</td>\n",
       "      <td>1.471140e+05</td>\n",
       "      <td>1.479290e+05</td>\n",
       "      <td>1.490110e+05</td>\n",
       "      <td>1.491820e+05</td>\n",
       "    </tr>\n",
       "    <tr>\n",
       "      <th>Event</th>\n",
       "      <td>100000.0</td>\n",
       "      <td>4.957212e+08</td>\n",
       "      <td>4.037703e+08</td>\n",
       "      <td>6414.000000</td>\n",
       "      <td>2.023970e+08</td>\n",
       "      <td>3.902759e+08</td>\n",
       "      <td>6.338891e+08</td>\n",
       "      <td>1.791247e+09</td>\n",
       "    </tr>\n",
       "    <tr>\n",
       "      <th>E1</th>\n",
       "      <td>100000.0</td>\n",
       "      <td>3.643647e+01</td>\n",
       "      <td>4.121620e+01</td>\n",
       "      <td>0.377928</td>\n",
       "      <td>8.458595e+00</td>\n",
       "      <td>2.171700e+01</td>\n",
       "      <td>5.000335e+01</td>\n",
       "      <td>8.506020e+02</td>\n",
       "    </tr>\n",
       "    <tr>\n",
       "      <th>px1</th>\n",
       "      <td>100000.0</td>\n",
       "      <td>1.358968e-01</td>\n",
       "      <td>1.340498e+01</td>\n",
       "      <td>-250.587000</td>\n",
       "      <td>-5.233675e+00</td>\n",
       "      <td>1.413385e-01</td>\n",
       "      <td>5.714560e+00</td>\n",
       "      <td>1.345390e+02</td>\n",
       "    </tr>\n",
       "    <tr>\n",
       "      <th>py1</th>\n",
       "      <td>100000.0</td>\n",
       "      <td>1.822913e-01</td>\n",
       "      <td>1.347028e+01</td>\n",
       "      <td>-126.079000</td>\n",
       "      <td>-5.276248e+00</td>\n",
       "      <td>9.909205e-02</td>\n",
       "      <td>5.648087e+00</td>\n",
       "      <td>1.474670e+02</td>\n",
       "    </tr>\n",
       "    <tr>\n",
       "      <th>pz1</th>\n",
       "      <td>100000.0</td>\n",
       "      <td>-1.508037e+00</td>\n",
       "      <td>5.160365e+01</td>\n",
       "      <td>-840.987000</td>\n",
       "      <td>-1.585983e+01</td>\n",
       "      <td>-3.129870e-01</td>\n",
       "      <td>1.321265e+01</td>\n",
       "      <td>7.600960e+02</td>\n",
       "    </tr>\n",
       "    <tr>\n",
       "      <th>pt1</th>\n",
       "      <td>100000.0</td>\n",
       "      <td>1.441217e+01</td>\n",
       "      <td>1.238874e+01</td>\n",
       "      <td>0.219629</td>\n",
       "      <td>3.771173e+00</td>\n",
       "      <td>1.296780e+01</td>\n",
       "      <td>2.001892e+01</td>\n",
       "      <td>2.655780e+02</td>\n",
       "    </tr>\n",
       "    <tr>\n",
       "      <th>eta1</th>\n",
       "      <td>100000.0</td>\n",
       "      <td>-6.409547e-02</td>\n",
       "      <td>1.462137e+00</td>\n",
       "      <td>-4.165380</td>\n",
       "      <td>-1.283883e+00</td>\n",
       "      <td>-6.117850e-02</td>\n",
       "      <td>1.144408e+00</td>\n",
       "      <td>2.622970e+00</td>\n",
       "    </tr>\n",
       "    <tr>\n",
       "      <th>phi1</th>\n",
       "      <td>100000.0</td>\n",
       "      <td>2.161430e-02</td>\n",
       "      <td>1.799562e+00</td>\n",
       "      <td>-3.141580</td>\n",
       "      <td>-1.527030e+00</td>\n",
       "      <td>3.432395e-02</td>\n",
       "      <td>1.562355e+00</td>\n",
       "      <td>3.141420e+00</td>\n",
       "    </tr>\n",
       "    <tr>\n",
       "      <th>Q1</th>\n",
       "      <td>100000.0</td>\n",
       "      <td>-5.480000e-03</td>\n",
       "      <td>9.999900e-01</td>\n",
       "      <td>-1.000000</td>\n",
       "      <td>-1.000000e+00</td>\n",
       "      <td>-1.000000e+00</td>\n",
       "      <td>1.000000e+00</td>\n",
       "      <td>1.000000e+00</td>\n",
       "    </tr>\n",
       "    <tr>\n",
       "      <th>E2</th>\n",
       "      <td>100000.0</td>\n",
       "      <td>4.400290e+01</td>\n",
       "      <td>4.675113e+01</td>\n",
       "      <td>0.472500</td>\n",
       "      <td>1.105573e+01</td>\n",
       "      <td>2.526460e+01</td>\n",
       "      <td>6.692553e+01</td>\n",
       "      <td>9.483750e+02</td>\n",
       "    </tr>\n",
       "    <tr>\n",
       "      <th>px2</th>\n",
       "      <td>100000.0</td>\n",
       "      <td>-3.983566e-03</td>\n",
       "      <td>1.312740e+01</td>\n",
       "      <td>-233.730000</td>\n",
       "      <td>-4.794770e+00</td>\n",
       "      <td>-3.563795e-02</td>\n",
       "      <td>4.819540e+00</td>\n",
       "      <td>2.273300e+02</td>\n",
       "    </tr>\n",
       "    <tr>\n",
       "      <th>py2</th>\n",
       "      <td>100000.0</td>\n",
       "      <td>1.246539e-01</td>\n",
       "      <td>1.316887e+01</td>\n",
       "      <td>-145.651000</td>\n",
       "      <td>-4.605965e+00</td>\n",
       "      <td>8.366450e-02</td>\n",
       "      <td>5.061860e+00</td>\n",
       "      <td>1.662830e+02</td>\n",
       "    </tr>\n",
       "    <tr>\n",
       "      <th>pz2</th>\n",
       "      <td>100000.0</td>\n",
       "      <td>-1.590559e+00</td>\n",
       "      <td>6.143004e+01</td>\n",
       "      <td>-655.396000</td>\n",
       "      <td>-2.203695e+01</td>\n",
       "      <td>-6.902445e-01</td>\n",
       "      <td>1.900583e+01</td>\n",
       "      <td>9.355580e+02</td>\n",
       "    </tr>\n",
       "    <tr>\n",
       "      <th>pt2</th>\n",
       "      <td>100000.0</td>\n",
       "      <td>1.380204e+01</td>\n",
       "      <td>1.246055e+01</td>\n",
       "      <td>0.026651</td>\n",
       "      <td>3.738103e+00</td>\n",
       "      <td>1.169095e+01</td>\n",
       "      <td>1.959640e+01</td>\n",
       "      <td>2.816540e+02</td>\n",
       "    </tr>\n",
       "    <tr>\n",
       "      <th>eta2</th>\n",
       "      <td>100000.0</td>\n",
       "      <td>-7.282961e-02</td>\n",
       "      <td>1.738033e+00</td>\n",
       "      <td>-7.064790</td>\n",
       "      <td>-1.892288e+00</td>\n",
       "      <td>-1.359110e-01</td>\n",
       "      <td>1.768253e+00</td>\n",
       "      <td>3.060550e+00</td>\n",
       "    </tr>\n",
       "    <tr>\n",
       "      <th>phi2</th>\n",
       "      <td>100000.0</td>\n",
       "      <td>2.138491e-02</td>\n",
       "      <td>1.817031e+00</td>\n",
       "      <td>-3.141580</td>\n",
       "      <td>-1.556925e+00</td>\n",
       "      <td>2.698635e-02</td>\n",
       "      <td>1.596737e+00</td>\n",
       "      <td>3.141290e+00</td>\n",
       "    </tr>\n",
       "    <tr>\n",
       "      <th>Q2</th>\n",
       "      <td>100000.0</td>\n",
       "      <td>-4.220000e-03</td>\n",
       "      <td>9.999961e-01</td>\n",
       "      <td>-1.000000</td>\n",
       "      <td>-1.000000e+00</td>\n",
       "      <td>-1.000000e+00</td>\n",
       "      <td>1.000000e+00</td>\n",
       "      <td>1.000000e+00</td>\n",
       "    </tr>\n",
       "    <tr>\n",
       "      <th>M</th>\n",
       "      <td>99915.0</td>\n",
       "      <td>3.001952e+01</td>\n",
       "      <td>2.525585e+01</td>\n",
       "      <td>2.000080</td>\n",
       "      <td>1.244520e+01</td>\n",
       "      <td>2.128310e+01</td>\n",
       "      <td>3.902505e+01</td>\n",
       "      <td>1.099990e+02</td>\n",
       "    </tr>\n",
       "  </tbody>\n",
       "</table>\n",
       "</div>"
      ],
      "text/plain": [
       "          count          mean           std            min           25%  \\\n",
       "Run    100000.0  1.479353e+05  9.203061e+02  146511.000000  1.471140e+05   \n",
       "Event  100000.0  4.957212e+08  4.037703e+08    6414.000000  2.023970e+08   \n",
       "E1     100000.0  3.643647e+01  4.121620e+01       0.377928  8.458595e+00   \n",
       "px1    100000.0  1.358968e-01  1.340498e+01    -250.587000 -5.233675e+00   \n",
       "py1    100000.0  1.822913e-01  1.347028e+01    -126.079000 -5.276248e+00   \n",
       "pz1    100000.0 -1.508037e+00  5.160365e+01    -840.987000 -1.585983e+01   \n",
       "pt1    100000.0  1.441217e+01  1.238874e+01       0.219629  3.771173e+00   \n",
       "eta1   100000.0 -6.409547e-02  1.462137e+00      -4.165380 -1.283883e+00   \n",
       "phi1   100000.0  2.161430e-02  1.799562e+00      -3.141580 -1.527030e+00   \n",
       "Q1     100000.0 -5.480000e-03  9.999900e-01      -1.000000 -1.000000e+00   \n",
       "E2     100000.0  4.400290e+01  4.675113e+01       0.472500  1.105573e+01   \n",
       "px2    100000.0 -3.983566e-03  1.312740e+01    -233.730000 -4.794770e+00   \n",
       "py2    100000.0  1.246539e-01  1.316887e+01    -145.651000 -4.605965e+00   \n",
       "pz2    100000.0 -1.590559e+00  6.143004e+01    -655.396000 -2.203695e+01   \n",
       "pt2    100000.0  1.380204e+01  1.246055e+01       0.026651  3.738103e+00   \n",
       "eta2   100000.0 -7.282961e-02  1.738033e+00      -7.064790 -1.892288e+00   \n",
       "phi2   100000.0  2.138491e-02  1.817031e+00      -3.141580 -1.556925e+00   \n",
       "Q2     100000.0 -4.220000e-03  9.999961e-01      -1.000000 -1.000000e+00   \n",
       "M       99915.0  3.001952e+01  2.525585e+01       2.000080  1.244520e+01   \n",
       "\n",
       "                50%           75%           max  \n",
       "Run    1.479290e+05  1.490110e+05  1.491820e+05  \n",
       "Event  3.902759e+08  6.338891e+08  1.791247e+09  \n",
       "E1     2.171700e+01  5.000335e+01  8.506020e+02  \n",
       "px1    1.413385e-01  5.714560e+00  1.345390e+02  \n",
       "py1    9.909205e-02  5.648087e+00  1.474670e+02  \n",
       "pz1   -3.129870e-01  1.321265e+01  7.600960e+02  \n",
       "pt1    1.296780e+01  2.001892e+01  2.655780e+02  \n",
       "eta1  -6.117850e-02  1.144408e+00  2.622970e+00  \n",
       "phi1   3.432395e-02  1.562355e+00  3.141420e+00  \n",
       "Q1    -1.000000e+00  1.000000e+00  1.000000e+00  \n",
       "E2     2.526460e+01  6.692553e+01  9.483750e+02  \n",
       "px2   -3.563795e-02  4.819540e+00  2.273300e+02  \n",
       "py2    8.366450e-02  5.061860e+00  1.662830e+02  \n",
       "pz2   -6.902445e-01  1.900583e+01  9.355580e+02  \n",
       "pt2    1.169095e+01  1.959640e+01  2.816540e+02  \n",
       "eta2  -1.359110e-01  1.768253e+00  3.060550e+00  \n",
       "phi2   2.698635e-02  1.596737e+00  3.141290e+00  \n",
       "Q2    -1.000000e+00  1.000000e+00  1.000000e+00  \n",
       "M      2.128310e+01  3.902505e+01  1.099990e+02  "
      ]
     },
     "execution_count": 4,
     "metadata": {},
     "output_type": "execute_result"
    }
   ],
   "source": [
    "df.describe().T"
   ]
  },
  {
   "cell_type": "markdown",
   "metadata": {
    "papermill": {
     "duration": 0.030432,
     "end_time": "2021-02-12T14:49:43.964794",
     "exception": false,
     "start_time": "2021-02-12T14:49:43.934362",
     "status": "completed"
    },
    "tags": []
   },
   "source": [
    "Looking at the minimum and maximum values of multiple column we are quite sure that this dataset needs to be scaled."
   ]
  },
  {
   "cell_type": "code",
   "execution_count": 5,
   "metadata": {
    "execution": {
     "iopub.execute_input": "2021-02-12T14:49:44.031376Z",
     "iopub.status.busy": "2021-02-12T14:49:44.030659Z",
     "iopub.status.idle": "2021-02-12T14:49:48.063664Z",
     "shell.execute_reply": "2021-02-12T14:49:48.064227Z"
    },
    "papermill": {
     "duration": 4.068864,
     "end_time": "2021-02-12T14:49:48.064436",
     "exception": false,
     "start_time": "2021-02-12T14:49:43.995572",
     "status": "completed"
    },
    "tags": []
   },
   "outputs": [
    {
     "data": {
      "image/png": "[encoded data removed]",
      "text/plain": [
       "<Figure size 1440x1080 with 20 Axes>"
      ]
     },
     "metadata": {
      "needs_background": "light"
     },
     "output_type": "display_data"
    }
   ],
   "source": [
    "df.hist(bins = 50, figsize = (20,15))\n",
    "plt.show()"
   ]
  },
  {
   "cell_type": "code",
   "execution_count": 6,
   "metadata": {
    "execution": {
     "iopub.execute_input": "2021-02-12T14:49:48.156077Z",
     "iopub.status.busy": "2021-02-12T14:49:48.154675Z",
     "iopub.status.idle": "2021-02-12T14:49:48.282816Z",
     "shell.execute_reply": "2021-02-12T14:49:48.281431Z"
    },
    "papermill": {
     "duration": 0.184611,
     "end_time": "2021-02-12T14:49:48.283018",
     "exception": false,
     "start_time": "2021-02-12T14:49:48.098407",
     "status": "completed"
    },
    "tags": []
   },
   "outputs": [
    {
     "data": {
      "image/png": "[encoded data removed]",
      "text/plain": [
       "<Figure size 360x360 with 1 Axes>"
      ]
     },
     "metadata": {
      "needs_background": "light"
     },
     "output_type": "display_data"
    }
   ],
   "source": [
    "df['E1'].hist(bins = 10, figsize = (5,5))\n",
    "plt.show()"
   ]
  },
  {
   "cell_type": "code",
   "execution_count": 7,
   "metadata": {
    "execution": {
     "iopub.execute_input": "2021-02-12T14:49:48.358739Z",
     "iopub.status.busy": "2021-02-12T14:49:48.357968Z",
     "iopub.status.idle": "2021-02-12T14:49:48.368386Z",
     "shell.execute_reply": "2021-02-12T14:49:48.368945Z"
    },
    "papermill": {
     "duration": 0.050784,
     "end_time": "2021-02-12T14:49:48.369157",
     "exception": false,
     "start_time": "2021-02-12T14:49:48.318373",
     "status": "completed"
    },
    "tags": []
   },
   "outputs": [
    {
     "data": {
      "text/plain": [
       "Run       0\n",
       "Event     0\n",
       "E1        0\n",
       "px1       0\n",
       "py1       0\n",
       "pz1       0\n",
       "pt1       0\n",
       "eta1      0\n",
       "phi1      0\n",
       "Q1        0\n",
       "E2        0\n",
       "px2       0\n",
       "py2       0\n",
       "pz2       0\n",
       "pt2       0\n",
       "eta2      0\n",
       "phi2      0\n",
       "Q2        0\n",
       "M        85\n",
       "dtype: int64"
      ]
     },
     "execution_count": 7,
     "metadata": {},
     "output_type": "execute_result"
    }
   ],
   "source": [
    "df.isnull().sum()"
   ]
  },
  {
   "cell_type": "markdown",
   "metadata": {
    "papermill": {
     "duration": 0.034926,
     "end_time": "2021-02-12T14:49:48.439396",
     "exception": false,
     "start_time": "2021-02-12T14:49:48.404470",
     "status": "completed"
    },
    "tags": []
   },
   "source": [
    "As there are only 85 missing values, that too the target values, we opted to drop those rows"
   ]
  },
  {
   "cell_type": "code",
   "execution_count": 8,
   "metadata": {
    "execution": {
     "iopub.execute_input": "2021-02-12T14:49:48.514619Z",
     "iopub.status.busy": "2021-02-12T14:49:48.513941Z",
     "iopub.status.idle": "2021-02-12T14:49:48.563509Z",
     "shell.execute_reply": "2021-02-12T14:49:48.564069Z"
    },
    "papermill": {
     "duration": 0.089714,
     "end_time": "2021-02-12T14:49:48.564332",
     "exception": false,
     "start_time": "2021-02-12T14:49:48.474618",
     "status": "completed"
    },
    "tags": []
   },
   "outputs": [
    {
     "data": {
      "text/plain": [
       "Run      0\n",
       "Event    0\n",
       "E1       0\n",
       "px1      0\n",
       "py1      0\n",
       "pz1      0\n",
       "pt1      0\n",
       "eta1     0\n",
       "phi1     0\n",
       "Q1       0\n",
       "E2       0\n",
       "px2      0\n",
       "py2      0\n",
       "pz2      0\n",
       "pt2      0\n",
       "eta2     0\n",
       "phi2     0\n",
       "Q2       0\n",
       "M        0\n",
       "dtype: int64"
      ]
     },
     "execution_count": 8,
     "metadata": {},
     "output_type": "execute_result"
    }
   ],
   "source": [
    "df2 = df.dropna(subset = ['M'])\n",
    "df2.isnull().sum()"
   ]
  },
  {
   "cell_type": "code",
   "execution_count": 9,
   "metadata": {
    "execution": {
     "iopub.execute_input": "2021-02-12T14:49:48.645216Z",
     "iopub.status.busy": "2021-02-12T14:49:48.643953Z",
     "iopub.status.idle": "2021-02-12T14:49:48.663482Z",
     "shell.execute_reply": "2021-02-12T14:49:48.662908Z"
    },
    "papermill": {
     "duration": 0.063311,
     "end_time": "2021-02-12T14:49:48.663663",
     "exception": false,
     "start_time": "2021-02-12T14:49:48.600352",
     "status": "completed"
    },
    "tags": []
   },
   "outputs": [
    {
     "name": "stdout",
     "output_type": "stream",
     "text": [
      "<class 'pandas.core.frame.DataFrame'>\n",
      "Int64Index: 99915 entries, 0 to 99999\n",
      "Data columns (total 19 columns):\n",
      " #   Column  Non-Null Count  Dtype  \n",
      "---  ------  --------------  -----  \n",
      " 0   Run     99915 non-null  int64  \n",
      " 1   Event   99915 non-null  int64  \n",
      " 2   E1      99915 non-null  float64\n",
      " 3   px1     99915 non-null  float64\n",
      " 4   py1     99915 non-null  float64\n",
      " 5   pz1     99915 non-null  float64\n",
      " 6   pt1     99915 non-null  float64\n",
      " 7   eta1    99915 non-null  float64\n",
      " 8   phi1    99915 non-null  float64\n",
      " 9   Q1      99915 non-null  int64  \n",
      " 10  E2      99915 non-null  float64\n",
      " 11  px2     99915 non-null  float64\n",
      " 12  py2     99915 non-null  float64\n",
      " 13  pz2     99915 non-null  float64\n",
      " 14  pt2     99915 non-null  float64\n",
      " 15  eta2    99915 non-null  float64\n",
      " 16  phi2    99915 non-null  float64\n",
      " 17  Q2      99915 non-null  int64  \n",
      " 18  M       99915 non-null  float64\n",
      "dtypes: float64(15), int64(4)\n",
      "memory usage: 15.2 MB\n"
     ]
    }
   ],
   "source": [
    "df2.info()"
   ]
  },
  {
   "cell_type": "code",
   "execution_count": 10,
   "metadata": {
    "execution": {
     "iopub.execute_input": "2021-02-12T14:49:48.742703Z",
     "iopub.status.busy": "2021-02-12T14:49:48.742023Z",
     "iopub.status.idle": "2021-02-12T14:49:48.870472Z",
     "shell.execute_reply": "2021-02-12T14:49:48.870979Z"
    },
    "papermill": {
     "duration": 0.17117,
     "end_time": "2021-02-12T14:49:48.871189",
     "exception": false,
     "start_time": "2021-02-12T14:49:48.700019",
     "status": "completed"
    },
    "tags": []
   },
   "outputs": [
    {
     "data": {
      "text/plain": [
       "M        1.000000\n",
       "pt2      0.437158\n",
       "pt1      0.437140\n",
       "E2       0.324660\n",
       "E1       0.285231\n",
       "Run      0.129452\n",
       "Event    0.052364\n",
       "eta2     0.018772\n",
       "eta1     0.017102\n",
       "pz2      0.015702\n",
       "pz1      0.011526\n",
       "py1      0.007538\n",
       "px1      0.006112\n",
       "Q1       0.005624\n",
       "phi1     0.001833\n",
       "Q2      -0.000444\n",
       "phi2    -0.004145\n",
       "px2     -0.004419\n",
       "py2     -0.011725\n",
       "Name: M, dtype: float64"
      ]
     },
     "execution_count": 10,
     "metadata": {},
     "output_type": "execute_result"
    }
   ],
   "source": [
    "corr_matrix = df2.corr()\n",
    "corr_matrix['M'].sort_values(ascending=False)"
   ]
  },
  {
   "cell_type": "code",
   "execution_count": 11,
   "metadata": {
    "execution": {
     "iopub.execute_input": "2021-02-12T14:49:48.957098Z",
     "iopub.status.busy": "2021-02-12T14:49:48.955384Z",
     "iopub.status.idle": "2021-02-12T14:49:59.369993Z",
     "shell.execute_reply": "2021-02-12T14:49:59.370473Z"
    },
    "papermill": {
     "duration": 10.462587,
     "end_time": "2021-02-12T14:49:59.370664",
     "exception": false,
     "start_time": "2021-02-12T14:49:48.908077",
     "status": "completed"
    },
    "tags": []
   },
   "outputs": [
    {
     "data": {
      "image/png": "[encoded data removed]",
      "text/plain": [
       "<Figure size 864x576 with 25 Axes>"
      ]
     },
     "metadata": {
      "needs_background": "light"
     },
     "output_type": "display_data"
    }
   ],
   "source": [
    "from pandas.plotting import scatter_matrix\n",
    "attributes = ['M','pt1','pt2','E1','E2']\n",
    "scatter_matrix(df2[attributes],figsize=(12,8))\n",
    "plt.show()"
   ]
  },
  {
   "cell_type": "code",
   "execution_count": 12,
   "metadata": {
    "execution": {
     "iopub.execute_input": "2021-02-12T14:49:59.459101Z",
     "iopub.status.busy": "2021-02-12T14:49:59.457878Z",
     "iopub.status.idle": "2021-02-12T14:50:01.921246Z",
     "shell.execute_reply": "2021-02-12T14:50:01.920700Z"
    },
    "papermill": {
     "duration": 2.511117,
     "end_time": "2021-02-12T14:50:01.921388",
     "exception": false,
     "start_time": "2021-02-12T14:49:59.410271",
     "status": "completed"
    },
    "tags": []
   },
   "outputs": [
    {
     "data": {
      "image/png": "[encoded data removed]",
      "text/plain": [
       "<Figure size 1080x1080 with 2 Axes>"
      ]
     },
     "metadata": {},
     "output_type": "display_data"
    }
   ],
   "source": [
    "sns.set(rc={'figure.figsize':(15,15)})\n",
    "g = sns.heatmap(df2.corr(),annot=True, fmt = \".2f\", cmap = \"coolwarm\")"
   ]
  },
  {
   "cell_type": "markdown",
   "metadata": {
    "papermill": {
     "duration": 0.045078,
     "end_time": "2021-02-12T14:50:02.011499",
     "exception": false,
     "start_time": "2021-02-12T14:50:01.966421",
     "status": "completed"
    },
    "tags": []
   },
   "source": [
    "Run and Event columns are there only to specify the run number and event number, so we find it safe just to drop those columns"
   ]
  },
  {
   "cell_type": "code",
   "execution_count": 13,
   "metadata": {
    "execution": {
     "iopub.execute_input": "2021-02-12T14:50:02.110983Z",
     "iopub.status.busy": "2021-02-12T14:50:02.110139Z",
     "iopub.status.idle": "2021-02-12T14:50:02.139907Z",
     "shell.execute_reply": "2021-02-12T14:50:02.139352Z"
    },
    "papermill": {
     "duration": 0.083539,
     "end_time": "2021-02-12T14:50:02.140054",
     "exception": false,
     "start_time": "2021-02-12T14:50:02.056515",
     "status": "completed"
    },
    "tags": []
   },
   "outputs": [
    {
     "name": "stderr",
     "output_type": "stream",
     "text": [
      "/opt/conda/lib/python3.7/site-packages/pandas/core/frame.py:4312: SettingWithCopyWarning: \n",
      "A value is trying to be set on a copy of a slice from a DataFrame\n",
      "\n",
      "See the caveats in the documentation: https://pandas.pydata.org/pandas-docs/stable/user_guide/indexing.html#returning-a-view-versus-a-copy\n",
      "  errors=errors,\n"
     ]
    },
    {
     "data": {
      "text/html": [
       "<div>\n",
       "<style scoped>\n",
       "    .dataframe tbody tr th:only-of-type {\n",
       "        vertical-align: middle;\n",
       "    }\n",
       "\n",
       "    .dataframe tbody tr th {\n",
       "        vertical-align: top;\n",
       "    }\n",
       "\n",
       "    .dataframe thead th {\n",
       "        text-align: right;\n",
       "    }\n",
       "</style>\n",
       "<table border=\"1\" class=\"dataframe\">\n",
       "  <thead>\n",
       "    <tr style=\"text-align: right;\">\n",
       "      <th></th>\n",
       "      <th>E1</th>\n",
       "      <th>px1</th>\n",
       "      <th>py1</th>\n",
       "      <th>pz1</th>\n",
       "      <th>pt1</th>\n",
       "      <th>eta1</th>\n",
       "      <th>phi1</th>\n",
       "      <th>Q1</th>\n",
       "      <th>E2</th>\n",
       "      <th>px2</th>\n",
       "      <th>py2</th>\n",
       "      <th>pz2</th>\n",
       "      <th>pt2</th>\n",
       "      <th>eta2</th>\n",
       "      <th>phi2</th>\n",
       "      <th>Q2</th>\n",
       "      <th>M</th>\n",
       "    </tr>\n",
       "  </thead>\n",
       "  <tbody>\n",
       "    <tr>\n",
       "      <th>0</th>\n",
       "      <td>58.71410</td>\n",
       "      <td>-7.31132</td>\n",
       "      <td>10.531000</td>\n",
       "      <td>-57.29740</td>\n",
       "      <td>12.82020</td>\n",
       "      <td>-2.20267</td>\n",
       "      <td>2.17766</td>\n",
       "      <td>1</td>\n",
       "      <td>11.2836</td>\n",
       "      <td>-1.032340</td>\n",
       "      <td>-1.88066</td>\n",
       "      <td>-11.0778</td>\n",
       "      <td>2.14537</td>\n",
       "      <td>-2.344030</td>\n",
       "      <td>-2.072810</td>\n",
       "      <td>-1</td>\n",
       "      <td>8.94841</td>\n",
       "    </tr>\n",
       "    <tr>\n",
       "      <th>1</th>\n",
       "      <td>6.61188</td>\n",
       "      <td>-4.15213</td>\n",
       "      <td>-0.579855</td>\n",
       "      <td>-5.11278</td>\n",
       "      <td>4.19242</td>\n",
       "      <td>-1.02842</td>\n",
       "      <td>-3.00284</td>\n",
       "      <td>-1</td>\n",
       "      <td>17.1492</td>\n",
       "      <td>-11.713500</td>\n",
       "      <td>5.04474</td>\n",
       "      <td>11.4647</td>\n",
       "      <td>12.75360</td>\n",
       "      <td>0.808077</td>\n",
       "      <td>2.734920</td>\n",
       "      <td>1</td>\n",
       "      <td>15.89300</td>\n",
       "    </tr>\n",
       "    <tr>\n",
       "      <th>2</th>\n",
       "      <td>25.54190</td>\n",
       "      <td>-11.48090</td>\n",
       "      <td>2.041680</td>\n",
       "      <td>22.72460</td>\n",
       "      <td>11.66100</td>\n",
       "      <td>1.42048</td>\n",
       "      <td>2.96560</td>\n",
       "      <td>1</td>\n",
       "      <td>15.8203</td>\n",
       "      <td>-1.472800</td>\n",
       "      <td>2.25895</td>\n",
       "      <td>-15.5888</td>\n",
       "      <td>2.69667</td>\n",
       "      <td>-2.455080</td>\n",
       "      <td>2.148570</td>\n",
       "      <td>1</td>\n",
       "      <td>38.38770</td>\n",
       "    </tr>\n",
       "    <tr>\n",
       "      <th>3</th>\n",
       "      <td>65.39590</td>\n",
       "      <td>7.51214</td>\n",
       "      <td>11.887100</td>\n",
       "      <td>63.86620</td>\n",
       "      <td>14.06190</td>\n",
       "      <td>2.21838</td>\n",
       "      <td>1.00721</td>\n",
       "      <td>1</td>\n",
       "      <td>25.1273</td>\n",
       "      <td>4.087860</td>\n",
       "      <td>2.59641</td>\n",
       "      <td>24.6563</td>\n",
       "      <td>4.84272</td>\n",
       "      <td>2.330210</td>\n",
       "      <td>0.565865</td>\n",
       "      <td>-1</td>\n",
       "      <td>3.72862</td>\n",
       "    </tr>\n",
       "    <tr>\n",
       "      <th>4</th>\n",
       "      <td>61.45040</td>\n",
       "      <td>2.95284</td>\n",
       "      <td>-14.622700</td>\n",
       "      <td>-59.61210</td>\n",
       "      <td>14.91790</td>\n",
       "      <td>-2.09375</td>\n",
       "      <td>-1.37154</td>\n",
       "      <td>-1</td>\n",
       "      <td>13.8871</td>\n",
       "      <td>-0.277757</td>\n",
       "      <td>-2.42560</td>\n",
       "      <td>-13.6708</td>\n",
       "      <td>2.44145</td>\n",
       "      <td>-2.423700</td>\n",
       "      <td>-1.684810</td>\n",
       "      <td>-1</td>\n",
       "      <td>2.74718</td>\n",
       "    </tr>\n",
       "  </tbody>\n",
       "</table>\n",
       "</div>"
      ],
      "text/plain": [
       "         E1      px1         py1       pz1       pt1     eta1     phi1  Q1  \\\n",
       "0  58.71410  -7.31132  10.531000 -57.29740  12.82020 -2.20267  2.17766   1   \n",
       "1   6.61188  -4.15213  -0.579855  -5.11278   4.19242 -1.02842 -3.00284  -1   \n",
       "2  25.54190 -11.48090   2.041680  22.72460  11.66100  1.42048  2.96560   1   \n",
       "3  65.39590   7.51214  11.887100  63.86620  14.06190  2.21838  1.00721   1   \n",
       "4  61.45040   2.95284 -14.622700 -59.61210  14.91790 -2.09375 -1.37154  -1   \n",
       "\n",
       "        E2        px2      py2      pz2       pt2      eta2      phi2  Q2  \\\n",
       "0  11.2836  -1.032340 -1.88066 -11.0778   2.14537 -2.344030 -2.072810  -1   \n",
       "1  17.1492 -11.713500  5.04474  11.4647  12.75360  0.808077  2.734920   1   \n",
       "2  15.8203  -1.472800  2.25895 -15.5888   2.69667 -2.455080  2.148570   1   \n",
       "3  25.1273   4.087860  2.59641  24.6563   4.84272  2.330210  0.565865  -1   \n",
       "4  13.8871  -0.277757 -2.42560 -13.6708   2.44145 -2.423700 -1.684810  -1   \n",
       "\n",
       "          M  \n",
       "0   8.94841  \n",
       "1  15.89300  \n",
       "2  38.38770  \n",
       "3   3.72862  \n",
       "4   2.74718  "
      ]
     },
     "execution_count": 13,
     "metadata": {},
     "output_type": "execute_result"
    }
   ],
   "source": [
    "df2.drop(labels = [\"Run\",\"Event\"], axis = 1, inplace = True)\n",
    "df2.head()"
   ]
  },
  {
   "cell_type": "markdown",
   "metadata": {
    "papermill": {
     "duration": 0.045297,
     "end_time": "2021-02-12T14:50:02.231925",
     "exception": false,
     "start_time": "2021-02-12T14:50:02.186628",
     "status": "completed"
    },
    "tags": []
   },
   "source": [
    "## Train Test Split"
   ]
  },
  {
   "cell_type": "markdown",
   "metadata": {
    "papermill": {
     "duration": 0.045437,
     "end_time": "2021-02-12T14:50:02.322689",
     "exception": false,
     "start_time": "2021-02-12T14:50:02.277252",
     "status": "completed"
    },
    "tags": []
   },
   "source": [
    "Now we will do the split of Training Data and Testing Data with 80:20 ratio."
   ]
  },
  {
   "cell_type": "code",
   "execution_count": 14,
   "metadata": {
    "execution": {
     "iopub.execute_input": "2021-02-12T14:50:02.421903Z",
     "iopub.status.busy": "2021-02-12T14:50:02.419113Z",
     "iopub.status.idle": "2021-02-12T14:50:02.438320Z",
     "shell.execute_reply": "2021-02-12T14:50:02.437750Z"
    },
    "papermill": {
     "duration": 0.070176,
     "end_time": "2021-02-12T14:50:02.438466",
     "exception": false,
     "start_time": "2021-02-12T14:50:02.368290",
     "status": "completed"
    },
    "tags": []
   },
   "outputs": [],
   "source": [
    "train_set,test_set = train_test_split(df2,test_size = 0.2, random_state = 42)"
   ]
  },
  {
   "cell_type": "code",
   "execution_count": 15,
   "metadata": {
    "execution": {
     "iopub.execute_input": "2021-02-12T14:50:02.542077Z",
     "iopub.status.busy": "2021-02-12T14:50:02.541315Z",
     "iopub.status.idle": "2021-02-12T14:50:02.545762Z",
     "shell.execute_reply": "2021-02-12T14:50:02.545107Z"
    },
    "papermill": {
     "duration": 0.061771,
     "end_time": "2021-02-12T14:50:02.545905",
     "exception": false,
     "start_time": "2021-02-12T14:50:02.484134",
     "status": "completed"
    },
    "tags": []
   },
   "outputs": [],
   "source": [
    "dataframe = train_set.drop('M',axis = 1)\n",
    "dataframe_labels = train_set['M'].copy()"
   ]
  },
  {
   "cell_type": "markdown",
   "metadata": {
    "papermill": {
     "duration": 0.045344,
     "end_time": "2021-02-12T14:50:02.636863",
     "exception": false,
     "start_time": "2021-02-12T14:50:02.591519",
     "status": "completed"
    },
    "tags": []
   },
   "source": [
    "### Scaling\n",
    "We can see the deviation among the min and max values of different columns, so what we thought of doing is Scaling and using StandardScaler \n",
    "StandardScaler first it subtracts the mean value (so standardized\n",
    "values always have a zero mean), and then it divides by the standard deviation so that\n",
    "the resulting distribution has unit variance. In other words, it centralizes the data."
   ]
  },
  {
   "cell_type": "code",
   "execution_count": 16,
   "metadata": {
    "execution": {
     "iopub.execute_input": "2021-02-12T14:50:02.734055Z",
     "iopub.status.busy": "2021-02-12T14:50:02.733068Z",
     "iopub.status.idle": "2021-02-12T14:50:02.737447Z",
     "shell.execute_reply": "2021-02-12T14:50:02.736746Z"
    },
    "papermill": {
     "duration": 0.054993,
     "end_time": "2021-02-12T14:50:02.737605",
     "exception": false,
     "start_time": "2021-02-12T14:50:02.682612",
     "status": "completed"
    },
    "tags": []
   },
   "outputs": [],
   "source": [
    "scaler = StandardScaler()"
   ]
  },
  {
   "cell_type": "code",
   "execution_count": 17,
   "metadata": {
    "execution": {
     "iopub.execute_input": "2021-02-12T14:50:02.839571Z",
     "iopub.status.busy": "2021-02-12T14:50:02.838890Z",
     "iopub.status.idle": "2021-02-12T14:50:02.880092Z",
     "shell.execute_reply": "2021-02-12T14:50:02.879304Z"
    },
    "papermill": {
     "duration": 0.095407,
     "end_time": "2021-02-12T14:50:02.880316",
     "exception": false,
     "start_time": "2021-02-12T14:50:02.784909",
     "status": "completed"
    },
    "tags": []
   },
   "outputs": [],
   "source": [
    "dataframe_scaled = scaler.fit_transform(dataframe)"
   ]
  },
  {
   "cell_type": "code",
   "execution_count": 18,
   "metadata": {
    "execution": {
     "iopub.execute_input": "2021-02-12T14:50:02.982149Z",
     "iopub.status.busy": "2021-02-12T14:50:02.981365Z",
     "iopub.status.idle": "2021-02-12T14:50:02.985416Z",
     "shell.execute_reply": "2021-02-12T14:50:02.984817Z"
    },
    "papermill": {
     "duration": 0.057354,
     "end_time": "2021-02-12T14:50:02.985573",
     "exception": false,
     "start_time": "2021-02-12T14:50:02.928219",
     "status": "completed"
    },
    "tags": []
   },
   "outputs": [
    {
     "data": {
      "text/plain": [
       "array([[-0.75951741,  0.04883702, -0.32216361, ..., -0.45193208,\n",
       "         0.69128598,  1.00534381],\n",
       "       [-0.43561192, -0.50414618, -0.76047301, ...,  0.16417698,\n",
       "        -0.53827285,  1.00534381],\n",
       "       [-0.43140815,  0.4534928 ,  1.2855941 , ..., -1.10858679,\n",
       "         1.47413314, -0.9946846 ],\n",
       "       ...,\n",
       "       [-0.78124917, -0.04032759, -0.29022078, ...,  0.81870945,\n",
       "         1.22620797, -0.9946846 ],\n",
       "       [-0.66282313, -0.0575785 ,  0.2438934 , ..., -0.98784357,\n",
       "        -0.81355257,  1.00534381],\n",
       "       [-0.45811173, -0.21880532,  0.29701465, ..., -1.00451664,\n",
       "         1.01943487, -0.9946846 ]])"
      ]
     },
     "execution_count": 18,
     "metadata": {},
     "output_type": "execute_result"
    }
   ],
   "source": [
    "dataframe_scaled"
   ]
  },
  {
   "cell_type": "markdown",
   "metadata": {
    "papermill": {
     "duration": 0.046934,
     "end_time": "2021-02-12T14:50:03.079939",
     "exception": false,
     "start_time": "2021-02-12T14:50:03.033005",
     "status": "completed"
    },
    "tags": []
   },
   "source": [
    "# **Models** "
   ]
  },
  {
   "cell_type": "markdown",
   "metadata": {
    "papermill": {
     "duration": 0.046046,
     "end_time": "2021-02-12T14:50:03.173551",
     "exception": false,
     "start_time": "2021-02-12T14:50:03.127505",
     "status": "completed"
    },
    "tags": []
   },
   "source": [
    "First we tried rough implementation of different modeling techniques"
   ]
  },
  {
   "cell_type": "markdown",
   "metadata": {
    "papermill": {
     "duration": 0.046487,
     "end_time": "2021-02-12T14:50:03.266226",
     "exception": false,
     "start_time": "2021-02-12T14:50:03.219739",
     "status": "completed"
    },
    "tags": []
   },
   "source": [
    "### ***LINEAR REGRESSION***"
   ]
  },
  {
   "cell_type": "code",
   "execution_count": 19,
   "metadata": {
    "execution": {
     "iopub.execute_input": "2021-02-12T14:50:03.364808Z",
     "iopub.status.busy": "2021-02-12T14:50:03.364111Z",
     "iopub.status.idle": "2021-02-12T14:50:03.439824Z",
     "shell.execute_reply": "2021-02-12T14:50:03.440829Z"
    },
    "papermill": {
     "duration": 0.128366,
     "end_time": "2021-02-12T14:50:03.441108",
     "exception": false,
     "start_time": "2021-02-12T14:50:03.312742",
     "status": "completed"
    },
    "tags": []
   },
   "outputs": [
    {
     "data": {
      "text/plain": [
       "LinearRegression()"
      ]
     },
     "execution_count": 19,
     "metadata": {},
     "output_type": "execute_result"
    }
   ],
   "source": [
    "lin_reg = LinearRegression()\n",
    "lin_reg.fit(dataframe_scaled, dataframe_labels)"
   ]
  },
  {
   "cell_type": "code",
   "execution_count": 20,
   "metadata": {
    "execution": {
     "iopub.execute_input": "2021-02-12T14:50:03.585520Z",
     "iopub.status.busy": "2021-02-12T14:50:03.584851Z",
     "iopub.status.idle": "2021-02-12T14:50:03.593779Z",
     "shell.execute_reply": "2021-02-12T14:50:03.594302Z"
    },
    "papermill": {
     "duration": 0.069925,
     "end_time": "2021-02-12T14:50:03.594496",
     "exception": false,
     "start_time": "2021-02-12T14:50:03.524571",
     "status": "completed"
    },
    "tags": []
   },
   "outputs": [
    {
     "data": {
      "text/plain": [
       "19.475013229356897"
      ]
     },
     "execution_count": 20,
     "metadata": {},
     "output_type": "execute_result"
    }
   ],
   "source": [
    "dataframe_predictions = lin_reg.predict(dataframe_scaled)\n",
    "lin_mse = mean_squared_error(dataframe_labels, dataframe_predictions)\n",
    "lin_rmse = np.sqrt(lin_mse)\n",
    "lin_rmse"
   ]
  },
  {
   "cell_type": "markdown",
   "metadata": {
    "papermill": {
     "duration": 0.048581,
     "end_time": "2021-02-12T14:50:03.690854",
     "exception": false,
     "start_time": "2021-02-12T14:50:03.642273",
     "status": "completed"
    },
    "tags": []
   },
   "source": [
    "RMSE of Linear Regression is quite high"
   ]
  },
  {
   "cell_type": "markdown",
   "metadata": {
    "papermill": {
     "duration": 0.047309,
     "end_time": "2021-02-12T14:50:03.785672",
     "exception": false,
     "start_time": "2021-02-12T14:50:03.738363",
     "status": "completed"
    },
    "tags": []
   },
   "source": [
    "### ***DECISION TREE***"
   ]
  },
  {
   "cell_type": "code",
   "execution_count": 21,
   "metadata": {
    "execution": {
     "iopub.execute_input": "2021-02-12T14:50:03.885929Z",
     "iopub.status.busy": "2021-02-12T14:50:03.884780Z",
     "iopub.status.idle": "2021-02-12T14:50:06.343886Z",
     "shell.execute_reply": "2021-02-12T14:50:06.343277Z"
    },
    "papermill": {
     "duration": 2.509995,
     "end_time": "2021-02-12T14:50:06.344033",
     "exception": false,
     "start_time": "2021-02-12T14:50:03.834038",
     "status": "completed"
    },
    "tags": []
   },
   "outputs": [
    {
     "data": {
      "text/plain": [
       "DecisionTreeRegressor()"
      ]
     },
     "execution_count": 21,
     "metadata": {},
     "output_type": "execute_result"
    }
   ],
   "source": [
    "\n",
    "tree_reg = DecisionTreeRegressor()\n",
    "tree_reg.fit(dataframe_scaled,dataframe_labels)"
   ]
  },
  {
   "cell_type": "code",
   "execution_count": 22,
   "metadata": {
    "execution": {
     "iopub.execute_input": "2021-02-12T14:50:06.447853Z",
     "iopub.status.busy": "2021-02-12T14:50:06.446805Z",
     "iopub.status.idle": "2021-02-12T14:50:06.491557Z",
     "shell.execute_reply": "2021-02-12T14:50:06.492175Z"
    },
    "papermill": {
     "duration": 0.098665,
     "end_time": "2021-02-12T14:50:06.492362",
     "exception": false,
     "start_time": "2021-02-12T14:50:06.393697",
     "status": "completed"
    },
    "tags": []
   },
   "outputs": [
    {
     "data": {
      "text/plain": [
       "0.0"
      ]
     },
     "execution_count": 22,
     "metadata": {},
     "output_type": "execute_result"
    }
   ],
   "source": [
    "dataframe_predictions = tree_reg.predict(dataframe_scaled)\n",
    "tree_mse = mean_squared_error(dataframe_labels,dataframe_predictions)\n",
    "tree_rmse = np.sqrt(tree_mse)\n",
    "tree_rmse"
   ]
  },
  {
   "cell_type": "markdown",
   "metadata": {
    "papermill": {
     "duration": 0.049003,
     "end_time": "2021-02-12T14:50:06.591443",
     "exception": false,
     "start_time": "2021-02-12T14:50:06.542440",
     "status": "completed"
    },
    "tags": []
   },
   "source": [
    "### ***Random Forest***"
   ]
  },
  {
   "cell_type": "code",
   "execution_count": 23,
   "metadata": {
    "execution": {
     "iopub.execute_input": "2021-02-12T14:50:06.693868Z",
     "iopub.status.busy": "2021-02-12T14:50:06.693221Z",
     "iopub.status.idle": "2021-02-12T14:52:36.314956Z",
     "shell.execute_reply": "2021-02-12T14:52:36.315502Z"
    },
    "papermill": {
     "duration": 149.674766,
     "end_time": "2021-02-12T14:52:36.315739",
     "exception": false,
     "start_time": "2021-02-12T14:50:06.640973",
     "status": "completed"
    },
    "tags": []
   },
   "outputs": [
    {
     "data": {
      "text/plain": [
       "RandomForestRegressor()"
      ]
     },
     "execution_count": 23,
     "metadata": {},
     "output_type": "execute_result"
    }
   ],
   "source": [
    "forest_reg = RandomForestRegressor()\n",
    "forest_reg.fit(dataframe_scaled,dataframe_labels)"
   ]
  },
  {
   "cell_type": "code",
   "execution_count": 24,
   "metadata": {
    "execution": {
     "iopub.execute_input": "2021-02-12T14:52:36.420623Z",
     "iopub.status.busy": "2021-02-12T14:52:36.419951Z",
     "iopub.status.idle": "2021-02-12T14:52:39.591597Z",
     "shell.execute_reply": "2021-02-12T14:52:39.592159Z"
    },
    "papermill": {
     "duration": 3.225917,
     "end_time": "2021-02-12T14:52:39.592359",
     "exception": false,
     "start_time": "2021-02-12T14:52:36.366442",
     "status": "completed"
    },
    "tags": []
   },
   "outputs": [
    {
     "data": {
      "text/plain": [
       "2.1828547014356268"
      ]
     },
     "execution_count": 24,
     "metadata": {},
     "output_type": "execute_result"
    }
   ],
   "source": [
    "dataframe_predictions = forest_reg.predict(dataframe_scaled)\n",
    "forest_mse = mean_squared_error(dataframe_labels,dataframe_predictions)\n",
    "forest_rmse = np.sqrt(forest_mse)\n",
    "forest_rmse"
   ]
  },
  {
   "cell_type": "markdown",
   "metadata": {
    "papermill": {
     "duration": 0.050008,
     "end_time": "2021-02-12T14:52:39.694430",
     "exception": false,
     "start_time": "2021-02-12T14:52:39.644422",
     "status": "completed"
    },
    "tags": []
   },
   "source": [
    "We can see that without any fine tuning Decision Tree is overfitting the data and Random Forest is near overfitting. Hence will do Cross Validation"
   ]
  },
  {
   "cell_type": "code",
   "execution_count": 25,
   "metadata": {
    "execution": {
     "iopub.execute_input": "2021-02-12T14:52:39.801223Z",
     "iopub.status.busy": "2021-02-12T14:52:39.800385Z",
     "iopub.status.idle": "2021-02-12T14:52:39.806397Z",
     "shell.execute_reply": "2021-02-12T14:52:39.805863Z"
    },
    "papermill": {
     "duration": 0.060146,
     "end_time": "2021-02-12T14:52:39.806554",
     "exception": false,
     "start_time": "2021-02-12T14:52:39.746408",
     "status": "completed"
    },
    "tags": []
   },
   "outputs": [],
   "source": [
    "def display_scores(scores):\n",
    "    print('Scores',scores)\n",
    "    print('Mean',scores.mean())\n",
    "    print('Standard Deviation',scores.std())"
   ]
  },
  {
   "cell_type": "markdown",
   "metadata": {
    "papermill": {
     "duration": 0.050061,
     "end_time": "2021-02-12T14:52:39.906396",
     "exception": false,
     "start_time": "2021-02-12T14:52:39.856335",
     "status": "completed"
    },
    "tags": []
   },
   "source": [
    "### Using Cross Validation"
   ]
  },
  {
   "cell_type": "code",
   "execution_count": 26,
   "metadata": {
    "execution": {
     "iopub.execute_input": "2021-02-12T14:52:40.009379Z",
     "iopub.status.busy": "2021-02-12T14:52:40.008702Z",
     "iopub.status.idle": "2021-02-12T14:52:40.529335Z",
     "shell.execute_reply": "2021-02-12T14:52:40.530348Z"
    },
    "papermill": {
     "duration": 0.574381,
     "end_time": "2021-02-12T14:52:40.530717",
     "exception": false,
     "start_time": "2021-02-12T14:52:39.956336",
     "status": "completed"
    },
    "tags": []
   },
   "outputs": [
    {
     "name": "stdout",
     "output_type": "stream",
     "text": [
      "Scores [19.68835651 19.38900082 19.17356977 19.84608752 19.57810137 19.18604122\n",
      " 19.64945899 19.30526745 19.36929669 19.63382691]\n",
      "Mean 19.48190072430533\n",
      "Standard Deviation 0.21697421780083911\n"
     ]
    }
   ],
   "source": [
    "lin_scores = cross_val_score(lin_reg,dataframe_scaled,dataframe_labels,\n",
    "                             scoring = 'neg_mean_squared_error',cv =10)\n",
    "lin_rmse_scores = np.sqrt(-lin_scores)\n",
    "display_scores(lin_rmse_scores)"
   ]
  },
  {
   "cell_type": "markdown",
   "metadata": {
    "papermill": {
     "duration": 0.056475,
     "end_time": "2021-02-12T14:52:40.683087",
     "exception": false,
     "start_time": "2021-02-12T14:52:40.626612",
     "status": "completed"
    },
    "tags": []
   },
   "source": [
    "> Scikit-Learn’s cross-validation features expect a utility function\n",
    "(greater is better) rather than a cost function (lower is better), so\n",
    "the scoring function is actually the opposite of the MSE (i.e., a neg‐\n",
    "ative value), which is why the preceding code computes -scores\n",
    "before calculating the square root."
   ]
  },
  {
   "cell_type": "code",
   "execution_count": 27,
   "metadata": {
    "execution": {
     "iopub.execute_input": "2021-02-12T14:52:40.793991Z",
     "iopub.status.busy": "2021-02-12T14:52:40.793221Z",
     "iopub.status.idle": "2021-02-12T14:53:02.630629Z",
     "shell.execute_reply": "2021-02-12T14:53:02.630023Z"
    },
    "papermill": {
     "duration": 21.895785,
     "end_time": "2021-02-12T14:53:02.630829",
     "exception": false,
     "start_time": "2021-02-12T14:52:40.735044",
     "status": "completed"
    },
    "tags": []
   },
   "outputs": [],
   "source": [
    "scores = cross_val_score(tree_reg,dataframe_scaled,dataframe_labels,\n",
    "                         scoring='neg_mean_squared_error',cv = 10)\n",
    "tree_rmse_scores = np.sqrt(-scores)"
   ]
  },
  {
   "cell_type": "code",
   "execution_count": 28,
   "metadata": {
    "execution": {
     "iopub.execute_input": "2021-02-12T14:53:02.738270Z",
     "iopub.status.busy": "2021-02-12T14:53:02.737586Z",
     "iopub.status.idle": "2021-02-12T14:53:02.742666Z",
     "shell.execute_reply": "2021-02-12T14:53:02.741759Z"
    },
    "papermill": {
     "duration": 0.061828,
     "end_time": "2021-02-12T14:53:02.742859",
     "exception": false,
     "start_time": "2021-02-12T14:53:02.681031",
     "status": "completed"
    },
    "tags": []
   },
   "outputs": [
    {
     "name": "stdout",
     "output_type": "stream",
     "text": [
      "Scores [10.2888147  10.32280297 10.26404145 10.24368621 10.53705382  9.65371635\n",
      " 11.18638669 10.38485728 10.31608469 10.19069802]\n",
      "Mean 10.338814216739106\n",
      "Standard Deviation 0.35623148968941853\n"
     ]
    }
   ],
   "source": [
    "display_scores(tree_rmse_scores)"
   ]
  },
  {
   "cell_type": "code",
   "execution_count": 29,
   "metadata": {
    "execution": {
     "iopub.execute_input": "2021-02-12T14:53:02.851366Z",
     "iopub.status.busy": "2021-02-12T14:53:02.850474Z",
     "iopub.status.idle": "2021-02-12T15:14:49.468736Z",
     "shell.execute_reply": "2021-02-12T15:14:49.467952Z"
    },
    "papermill": {
     "duration": 1306.674918,
     "end_time": "2021-02-12T15:14:49.468917",
     "exception": false,
     "start_time": "2021-02-12T14:53:02.793999",
     "status": "completed"
    },
    "tags": []
   },
   "outputs": [],
   "source": [
    "forest_scores = cross_val_score(forest_reg,dataframe_scaled,dataframe_labels,\n",
    "                                scoring = 'neg_mean_squared_error',cv =10)"
   ]
  },
  {
   "cell_type": "code",
   "execution_count": 30,
   "metadata": {
    "execution": {
     "iopub.execute_input": "2021-02-12T15:14:49.579153Z",
     "iopub.status.busy": "2021-02-12T15:14:49.578295Z",
     "iopub.status.idle": "2021-02-12T15:14:49.582014Z",
     "shell.execute_reply": "2021-02-12T15:14:49.582612Z"
    },
    "papermill": {
     "duration": 0.061684,
     "end_time": "2021-02-12T15:14:49.582831",
     "exception": false,
     "start_time": "2021-02-12T15:14:49.521147",
     "status": "completed"
    },
    "tags": []
   },
   "outputs": [
    {
     "name": "stdout",
     "output_type": "stream",
     "text": [
      "Scores [5.87588627 5.96047598 5.58595075 5.7860323  5.73231149 5.5088636\n",
      " 5.86308001 5.67867455 5.61496231 6.02111366]\n",
      "Mean 5.762735091810265\n",
      "Standard Deviation 0.1596270649088283\n"
     ]
    }
   ],
   "source": [
    "forest_rmse_scores = np.sqrt(-forest_scores)\n",
    "display_scores(forest_rmse_scores)"
   ]
  },
  {
   "cell_type": "markdown",
   "metadata": {
    "papermill": {
     "duration": 0.051826,
     "end_time": "2021-02-12T15:14:49.687096",
     "exception": false,
     "start_time": "2021-02-12T15:14:49.635270",
     "status": "completed"
    },
    "tags": []
   },
   "source": [
    "Of the three we can see that Random Forest has lowest RMSE and is also quite stable, so will use GridSearchCV for hyperparameter tuning\n",
    "\n",
    "### GridSearchCV"
   ]
  },
  {
   "cell_type": "code",
   "execution_count": 31,
   "metadata": {
    "execution": {
     "iopub.execute_input": "2021-02-12T15:14:49.801929Z",
     "iopub.status.busy": "2021-02-12T15:14:49.801201Z",
     "iopub.status.idle": "2021-02-12T15:22:15.095117Z",
     "shell.execute_reply": "2021-02-12T15:22:15.095603Z"
    },
    "papermill": {
     "duration": 445.354999,
     "end_time": "2021-02-12T15:22:15.095827",
     "exception": false,
     "start_time": "2021-02-12T15:14:49.740828",
     "status": "completed"
    },
    "tags": []
   },
   "outputs": [
    {
     "data": {
      "text/plain": [
       "GridSearchCV(cv=5, estimator=RandomForestRegressor(),\n",
       "             param_grid=[{'max_features': [2, 4, 6, 8],\n",
       "                          'n_estimators': [3, 10, 30]},\n",
       "                         {'bootstrap': [False], 'max_features': [2, 3, 4],\n",
       "                          'n_estimators': [3, 10]}],\n",
       "             scoring='neg_mean_squared_error')"
      ]
     },
     "execution_count": 31,
     "metadata": {},
     "output_type": "execute_result"
    }
   ],
   "source": [
    "param_grid = [\n",
    "    {'n_estimators':[3,10,30], 'max_features':[2,4,6,8]},\n",
    "    {'bootstrap':[False],'n_estimators':[3,10],'max_features':[2,3,4]},\n",
    "]\n",
    "forest_reg = RandomForestRegressor()\n",
    "grid_search = GridSearchCV(forest_reg,param_grid, cv=5,scoring = 'neg_mean_squared_error')\n",
    "grid_search.fit(dataframe_scaled,dataframe_labels)"
   ]
  },
  {
   "cell_type": "code",
   "execution_count": 32,
   "metadata": {
    "execution": {
     "iopub.execute_input": "2021-02-12T15:22:15.209075Z",
     "iopub.status.busy": "2021-02-12T15:22:15.208271Z",
     "iopub.status.idle": "2021-02-12T15:22:15.211897Z",
     "shell.execute_reply": "2021-02-12T15:22:15.212351Z"
    },
    "papermill": {
     "duration": 0.064454,
     "end_time": "2021-02-12T15:22:15.212620",
     "exception": false,
     "start_time": "2021-02-12T15:22:15.148166",
     "status": "completed"
    },
    "tags": []
   },
   "outputs": [
    {
     "data": {
      "text/plain": [
       "{'max_features': 4, 'n_estimators': 30}"
      ]
     },
     "execution_count": 32,
     "metadata": {},
     "output_type": "execute_result"
    }
   ],
   "source": [
    "grid_search.best_params_"
   ]
  },
  {
   "cell_type": "code",
   "execution_count": 33,
   "metadata": {
    "execution": {
     "iopub.execute_input": "2021-02-12T15:22:15.326590Z",
     "iopub.status.busy": "2021-02-12T15:22:15.325540Z",
     "iopub.status.idle": "2021-02-12T15:22:15.330406Z",
     "shell.execute_reply": "2021-02-12T15:22:15.329773Z"
    },
    "papermill": {
     "duration": 0.063664,
     "end_time": "2021-02-12T15:22:15.330557",
     "exception": false,
     "start_time": "2021-02-12T15:22:15.266893",
     "status": "completed"
    },
    "tags": []
   },
   "outputs": [
    {
     "data": {
      "text/plain": [
       "RandomForestRegressor(max_features=4, n_estimators=30)"
      ]
     },
     "execution_count": 33,
     "metadata": {},
     "output_type": "execute_result"
    }
   ],
   "source": [
    "grid_search.best_estimator_"
   ]
  },
  {
   "cell_type": "code",
   "execution_count": 34,
   "metadata": {
    "execution": {
     "iopub.execute_input": "2021-02-12T15:22:15.441074Z",
     "iopub.status.busy": "2021-02-12T15:22:15.440432Z",
     "iopub.status.idle": "2021-02-12T15:22:15.451752Z",
     "shell.execute_reply": "2021-02-12T15:22:15.450723Z"
    },
    "papermill": {
     "duration": 0.068329,
     "end_time": "2021-02-12T15:22:15.451983",
     "exception": false,
     "start_time": "2021-02-12T15:22:15.383654",
     "status": "completed"
    },
    "tags": []
   },
   "outputs": [
    {
     "name": "stdout",
     "output_type": "stream",
     "text": [
      "8.057419167882582 {'max_features': 2, 'n_estimators': 3}\n",
      "6.11422121699499 {'max_features': 2, 'n_estimators': 10}\n",
      "5.3415648823192505 {'max_features': 2, 'n_estimators': 30}\n",
      "7.842692421494385 {'max_features': 4, 'n_estimators': 3}\n",
      "5.088749507723305 {'max_features': 4, 'n_estimators': 10}\n",
      "4.728506565374758 {'max_features': 4, 'n_estimators': 30}\n",
      "6.834723633663124 {'max_features': 6, 'n_estimators': 3}\n",
      "5.572837411242605 {'max_features': 6, 'n_estimators': 10}\n",
      "4.8590444692385475 {'max_features': 6, 'n_estimators': 30}\n",
      "7.024485233067631 {'max_features': 8, 'n_estimators': 3}\n",
      "5.55191280882141 {'max_features': 8, 'n_estimators': 10}\n",
      "4.990795518011166 {'max_features': 8, 'n_estimators': 30}\n",
      "7.30942977791627 {'bootstrap': False, 'max_features': 2, 'n_estimators': 3}\n",
      "5.559880971253442 {'bootstrap': False, 'max_features': 2, 'n_estimators': 10}\n",
      "6.753799957192363 {'bootstrap': False, 'max_features': 3, 'n_estimators': 3}\n",
      "5.1069376018095864 {'bootstrap': False, 'max_features': 3, 'n_estimators': 10}\n",
      "6.151401211483616 {'bootstrap': False, 'max_features': 4, 'n_estimators': 3}\n",
      "5.187453054009197 {'bootstrap': False, 'max_features': 4, 'n_estimators': 10}\n"
     ]
    }
   ],
   "source": [
    "cvres = grid_search.cv_results_\n",
    "for mean_score,params in zip(cvres['mean_test_score'],cvres['params']):\n",
    "    print(np.sqrt(-mean_score),params)"
   ]
  },
  {
   "cell_type": "code",
   "execution_count": 35,
   "metadata": {
    "execution": {
     "iopub.execute_input": "2021-02-12T15:22:15.568602Z",
     "iopub.status.busy": "2021-02-12T15:22:15.567617Z",
     "iopub.status.idle": "2021-02-12T15:22:15.634893Z",
     "shell.execute_reply": "2021-02-12T15:22:15.634282Z"
    },
    "papermill": {
     "duration": 0.127637,
     "end_time": "2021-02-12T15:22:15.635077",
     "exception": false,
     "start_time": "2021-02-12T15:22:15.507440",
     "status": "completed"
    },
    "tags": []
   },
   "outputs": [
    {
     "data": {
      "text/plain": [
       "array([0.09839686, 0.02414687, 0.02932899, 0.12030658, 0.11469887,\n",
       "       0.09049641, 0.01009194, 0.00077466, 0.08310161, 0.01843301,\n",
       "       0.03276356, 0.10821432, 0.17379917, 0.08688955, 0.00781126,\n",
       "       0.00074635])"
      ]
     },
     "execution_count": 35,
     "metadata": {},
     "output_type": "execute_result"
    }
   ],
   "source": [
    "feature_importances =  grid_search.best_estimator_.feature_importances_\n",
    "feature_importances"
   ]
  },
  {
   "cell_type": "code",
   "execution_count": 36,
   "metadata": {
    "execution": {
     "iopub.execute_input": "2021-02-12T15:22:15.763165Z",
     "iopub.status.busy": "2021-02-12T15:22:15.761908Z",
     "iopub.status.idle": "2021-02-12T15:22:16.187225Z",
     "shell.execute_reply": "2021-02-12T15:22:16.186588Z"
    },
    "papermill": {
     "duration": 0.49313,
     "end_time": "2021-02-12T15:22:16.187389",
     "exception": false,
     "start_time": "2021-02-12T15:22:15.694259",
     "status": "completed"
    },
    "tags": []
   },
   "outputs": [],
   "source": [
    "final_model = grid_search.best_estimator_\n",
    "X_test = test_set.drop(\"M\", axis=1)\n",
    "y_test = test_set[\"M\"].copy()\n",
    "X_test_prepared = scaler.transform(X_test)\n",
    "final_predictions = final_model.predict(X_test_prepared)\n",
    "final_mse = mean_squared_error(y_test, final_predictions)\n",
    "final_rmse = np.sqrt(final_mse)"
   ]
  },
  {
   "cell_type": "code",
   "execution_count": 37,
   "metadata": {
    "execution": {
     "iopub.execute_input": "2021-02-12T15:22:16.303688Z",
     "iopub.status.busy": "2021-02-12T15:22:16.302886Z",
     "iopub.status.idle": "2021-02-12T15:22:16.307513Z",
     "shell.execute_reply": "2021-02-12T15:22:16.306862Z"
    },
    "papermill": {
     "duration": 0.065708,
     "end_time": "2021-02-12T15:22:16.307693",
     "exception": false,
     "start_time": "2021-02-12T15:22:16.241985",
     "status": "completed"
    },
    "tags": []
   },
   "outputs": [
    {
     "name": "stdout",
     "output_type": "stream",
     "text": [
      "4.477313932933207\n"
     ]
    }
   ],
   "source": [
    "print(final_rmse)"
   ]
  }
 ],
 "metadata": {
  "kernelspec": {
   "display_name": "Python 3",
   "language": "python",
   "name": "python3"
  },
  "language_info": {
   "codemirror_mode": {
    "name": "ipython",
    "version": 3
   },
   "file_extension": ".py",
   "mimetype": "text/x-python",
   "name": "python",
   "nbconvert_exporter": "python",
   "pygments_lexer": "ipython3",
   "version": "3.7.9"
  },
  "papermill": {
   "default_parameters": {},
   "duration": 1961.388079,
   "end_time": "2021-02-12T15:22:17.076519",
   "environment_variables": {},
   "exception": null,
   "input_path": "__notebook__.ipynb",
   "output_path": "__notebook__.ipynb",
   "parameters": {},
   "start_time": "2021-02-12T14:49:35.688440",
   "version": "2.2.2"
  }
 },
 "nbformat": 4,
 "nbformat_minor": 4
}
